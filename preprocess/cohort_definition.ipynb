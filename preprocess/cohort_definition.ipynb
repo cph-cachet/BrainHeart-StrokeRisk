{
 "cells": [
  {
   "cell_type": "code",
   "execution_count": 1,
   "metadata": {},
   "outputs": [],
   "source": [
    "import os\n",
    "import numpy as np\n",
    "import pandas as pd\n",
    "import warnings\n",
    "warnings.filterwarnings('ignore')"
   ]
  },
  {
   "cell_type": "code",
   "execution_count": 2,
   "metadata": {},
   "outputs": [],
   "source": [
    "path = r'/work3/saima/shhs_processed'\n",
    "cvd_summary = pd.read_csv(os.path.join(path, 'shhs-cvd-summary-dataset-0.19.0.csv'))\n",
    "path = os.path.join(path, 'shhs1_processed_all_directories')\n",
    "av_subjs = [int(x.split('_')[1]) for x in os.listdir(path)]\n",
    "cvd_summary = cvd_summary[cvd_summary['nsrrid'].isin(av_subjs)]\n",
    "\n",
    "timeLimit = 365*10"
   ]
  },
  {
   "cell_type": "code",
   "execution_count": 3,
   "metadata": {},
   "outputs": [],
   "source": [
    "baseline_Params = ['prev_mi', 'prev_mip', 'prev_stk', 'prev_revpro', 'prev_ang', 'prev_chf']\n",
    "healthy_Params = ['chf', 'mi', 'stroke', 'mip', 'mi_fatal', 'stk_fatal', 'angina']"
   ]
  },
  {
   "cell_type": "code",
   "execution_count": 4,
   "metadata": {},
   "outputs": [],
   "source": [
    "healthy_at_baseline = cvd_summary[\n",
    "    cvd_summary[baseline_Params].eq(0).all(axis=1)]['nsrrid'].values\n",
    "\n",
    "healthy_after_baseline = cvd_summary[cvd_summary['nsrrid'].isin(\n",
    "    healthy_at_baseline)][cvd_summary[healthy_Params].eq(0).all(axis=1)]['nsrrid'].values\n",
    "\n",
    "stroke_after_baseline = cvd_summary[cvd_summary['nsrrid'].isin(healthy_at_baseline)][(\n",
    "    cvd_summary['stroke'] > 0)][(cvd_summary['stk_date'] < timeLimit)]['nsrrid'].values\n",
    "\n",
    "strokeFatal_after_baseline = cvd_summary[cvd_summary['nsrrid'].isin(healthy_at_baseline)][(\n",
    "    cvd_summary['stk_fatal'] > 0)][(cvd_summary['stk_date'] < timeLimit)]['nsrrid'].values\n",
    "\n",
    "chf_after_baseline = cvd_summary[cvd_summary['nsrrid'].isin(healthy_at_baseline)][(\n",
    "    cvd_summary['chf'] > 0)][(cvd_summary['chf_date'] < timeLimit)]['nsrrid'].values\n",
    "\n",
    "mi_after_baseline = cvd_summary[cvd_summary['nsrrid'].isin(healthy_at_baseline)][(\n",
    "    cvd_summary['mi'] > 0)][(cvd_summary['mi_date'] < timeLimit)]['nsrrid'].values\n",
    "\n",
    "cvdDeath_after_baseline = cvd_summary[cvd_summary['nsrrid'].isin(healthy_at_baseline)][(\n",
    "    cvd_summary['cvd_death'] > 0)][(cvd_summary['censdate'] < timeLimit)]['nsrrid'].values\n",
    "\n",
    "allCause_after_baseline = cvd_summary[cvd_summary['nsrrid'].isin(healthy_at_baseline)][(\n",
    "    cvd_summary['vital'] == 0)][(cvd_summary['censdate'] < timeLimit)]['nsrrid'].values"
   ]
  },
  {
   "cell_type": "code",
   "execution_count": 5,
   "metadata": {},
   "outputs": [
    {
     "name": "stdout",
     "output_type": "stream",
     "text": [
      "Number of subjects in each category:\n",
      "----------------------------------------\n",
      "Healthy at baseline       :    928\n",
      "Remained healthy          :    533\n",
      "Developed stroke          :    114\n",
      "Fatal stroke              :     15\n",
      "Developed CHF             :    212\n",
      "Developed MI              :    132\n",
      "CVD death                 :    133\n",
      "All-cause mortality       :    370\n"
     ]
    }
   ],
   "source": [
    "\n",
    "# Create a dictionary of categories and their counts\n",
    "categories = {\n",
    "    'Healthy at baseline': len(healthy_at_baseline),\n",
    "    'Remained healthy': len(healthy_after_baseline),\n",
    "    'Developed stroke': len(stroke_after_baseline), \n",
    "    'Fatal stroke': len(strokeFatal_after_baseline),\n",
    "    'Developed CHF': len(chf_after_baseline),\n",
    "    'Developed MI': len(mi_after_baseline),\n",
    "    'CVD death': len(cvdDeath_after_baseline),\n",
    "    'All-cause mortality': len(allCause_after_baseline)\n",
    "}\n",
    "\n",
    "print(\"Number of subjects in each category:\")\n",
    "print(\"-\" * 40)\n",
    "# Print each category with aligned counts\n",
    "for category, count in categories.items():\n",
    "    print(f\"{category:<25} : {count:>6,d}\")"
   ]
  },
  {
   "cell_type": "markdown",
   "metadata": {},
   "source": [
    "### Define Train-Test Split "
   ]
  },
  {
   "cell_type": "code",
   "execution_count": 8,
   "metadata": {},
   "outputs": [
    {
     "name": "stdout",
     "output_type": "stream",
     "text": [
      "Category Sizes:\n",
      "-----------------------------------------------------------------\n",
      "Category           Train     Test  Remaining      Total\n",
      "-----------------------------------------------------------------\n",
      "Healthy              106       26        401        533\n",
      "Stroke                22        5         87        114\n",
      "Stroke Fatal           3        0         12         15\n",
      "CHF                   42       10        160        212\n",
      "MI                    26        6        100        132\n",
      "CVD Death             26        6        101        133\n",
      "All Cause             74       18        278        370\n",
      "-----------------------------------------------------------------\n",
      "Total                299       71       1139       1509\n"
     ]
    }
   ],
   "source": [
    "train_split, test_split = 0.2, 0.05\n",
    "\n",
    "np.random.seed(42) \n",
    "\n",
    "# Get 20% of each category for training\n",
    "train_healthy = np.random.choice(healthy_after_baseline, size=int(train_split*len(healthy_after_baseline)), replace=False)\n",
    "train_stroke = np.random.choice(stroke_after_baseline, size=int(train_split*len(stroke_after_baseline)), replace=False)\n",
    "train_strokeFatal = np.random.choice(strokeFatal_after_baseline, size=int(train_split*len(strokeFatal_after_baseline)), replace=False)\n",
    "train_chf = np.random.choice(chf_after_baseline, size=int(train_split*len(chf_after_baseline)), replace=False)\n",
    "train_mi = np.random.choice(mi_after_baseline, size=int(train_split*len(mi_after_baseline)), replace=False)\n",
    "train_cvdDeath = np.random.choice(cvdDeath_after_baseline, size=int(train_split*len(cvdDeath_after_baseline)), replace=False)\n",
    "train_allCause = np.random.choice(allCause_after_baseline, size=int(train_split*len(allCause_after_baseline)), replace=False)\n",
    "\n",
    "train_subjects = np.concatenate([\n",
    "    train_healthy, train_stroke, train_strokeFatal, train_chf,\n",
    "    train_mi, train_cvdDeath, train_allCause\n",
    "])\n",
    "\n",
    "\n",
    "remaining_healthy = np.setdiff1d(healthy_after_baseline, train_healthy)\n",
    "remaining_stroke = np.setdiff1d(stroke_after_baseline, train_stroke)\n",
    "remaining_strokeFatal = np.setdiff1d(strokeFatal_after_baseline, train_strokeFatal)\n",
    "remaining_chf = np.setdiff1d(chf_after_baseline, train_chf)\n",
    "remaining_mi = np.setdiff1d(mi_after_baseline, train_mi)\n",
    "remaining_cvdDeath = np.setdiff1d(cvdDeath_after_baseline, train_cvdDeath)\n",
    "remaining_allCause = np.setdiff1d(allCause_after_baseline, train_allCause)\n",
    "\n",
    "remaining_subjects = np.concatenate([\n",
    "    remaining_healthy, remaining_stroke, remaining_strokeFatal, remaining_chf,\n",
    "    remaining_mi, remaining_cvdDeath, remaining_allCause\n",
    "])\n",
    "\n",
    "# Get 10% of remaining subjects from each category for testing\n",
    "test_healthy = np.random.choice(remaining_healthy, size=int(test_split*len(healthy_after_baseline)), replace=False)\n",
    "test_stroke = np.random.choice(remaining_stroke, size=int(test_split*len(stroke_after_baseline)), replace=False)\n",
    "test_strokeFatal = np.random.choice(remaining_strokeFatal, size=int(test_split*len(strokeFatal_after_baseline)), replace=False)\n",
    "test_chf = np.random.choice(remaining_chf, size=int(test_split*len(chf_after_baseline)), replace=False)\n",
    "test_mi = np.random.choice(remaining_mi, size=int(test_split*len(mi_after_baseline)), replace=False)\n",
    "test_cvdDeath = np.random.choice(remaining_cvdDeath, size=int(test_split*len(cvdDeath_after_baseline)), replace=False)\n",
    "test_allCause = np.random.choice(remaining_allCause, size=int(test_split*len(allCause_after_baseline)), replace=False)\n",
    "\n",
    "# Combine all test samples into one array\n",
    "test_subjects = np.concatenate([\n",
    "    test_healthy, test_stroke, test_strokeFatal, test_chf,\n",
    "    test_mi, test_cvdDeath, test_allCause\n",
    "])\n",
    "\n",
    "\n",
    "# Create a dictionary of category data\n",
    "categories = {\n",
    "    'Healthy': (train_healthy, test_healthy, remaining_healthy),\n",
    "    'Stroke': (train_stroke, test_stroke, remaining_stroke), \n",
    "    'Stroke Fatal': (train_strokeFatal, test_strokeFatal, remaining_strokeFatal),\n",
    "    'CHF': (train_chf, test_chf, remaining_chf),\n",
    "    'MI': (train_mi, test_mi, remaining_mi),\n",
    "    'CVD Death': (train_cvdDeath, test_cvdDeath, remaining_cvdDeath),\n",
    "    'All Cause': (train_allCause, test_allCause, remaining_allCause)\n",
    "}\n",
    "\n",
    "print(\"Category Sizes:\")\n",
    "print(\"-\" * 65)\n",
    "print(f\"{'Category':<15} {'Train':>8} {'Test':>8} {'Remaining':>10} {'Total':>10}\")\n",
    "print(\"-\" * 65)\n",
    "\n",
    "total_train = 0\n",
    "total_test = 0\n",
    "total_remaining = 0\n",
    "\n",
    "for category, (train, test, remaining) in categories.items():\n",
    "    remaining_count = len(remaining) - len(test)\n",
    "    total = len(train) + len(test) + remaining_count\n",
    "    print(f\"{category:<15} {len(train):>8} {len(test):>8} {remaining_count:>10} {total:>10}\")\n",
    "    \n",
    "    total_train += len(train)\n",
    "    total_test += len(test) \n",
    "    total_remaining += remaining_count\n",
    "\n",
    "print(\"-\" * 65)\n",
    "print(f\"{'Total':<15} {total_train:>8} {total_test:>8} {total_remaining:>10} {total_train + total_test + total_remaining:>10}\")"
   ]
  },
  {
   "cell_type": "code",
   "execution_count": 9,
   "metadata": {},
   "outputs": [
    {
     "data": {
      "text/plain": [
       "(38893, 8795, 153172)"
      ]
     },
     "execution_count": 9,
     "metadata": {},
     "output_type": "execute_result"
    }
   ],
   "source": [
    "train_array = []\n",
    "for i in train_subjects:\n",
    "    age = cvd_summary[cvd_summary['nsrrid'] == i]['age_s1'].values[0]\n",
    "    for to_do in os.listdir(os.path.join(path, 'shhs1_'+str(i))):\n",
    "        if os.path.exists(os.path.join(path, 'shhs1_'+str(i), to_do)):\n",
    "            ecgShape = np.load(os.path.join(path, 'shhs1_'+str(i), to_do)).shape[0]\n",
    "            train_array.extend([[i, to_do, x, 1 if i in train_healthy else 0, age] for x in range(ecgShape)])\n",
    "    \n",
    "test_array = []\n",
    "for i in test_subjects:  \n",
    "    age = cvd_summary[cvd_summary['nsrrid'] == i]['age_s1'].values[0]\n",
    "    for to_do in os.listdir(os.path.join(path, 'shhs1_'+str(i))):\n",
    "        if os.path.exists(os.path.join(path, 'shhs1_'+str(i), to_do)):\n",
    "            ecgShape = np.load(os.path.join(path, 'shhs1_'+str(i), to_do)).shape[0]\n",
    "            test_array.extend([[i, to_do, x, 1 if i in train_healthy else 0, age] for x in range(ecgShape)])\n",
    "            \n",
    "remaining_array = []\n",
    "for i in remaining_subjects:  \n",
    "    age = cvd_summary[cvd_summary['nsrrid'] == i]['age_s1'].values[0]\n",
    "    for to_do in os.listdir(os.path.join(path, 'shhs1_'+str(i))):\n",
    "        if os.path.exists(os.path.join(path, 'shhs1_'+str(i), to_do)):\n",
    "            ecgShape = np.load(os.path.join(path, 'shhs1_'+str(i), to_do)).shape[0]\n",
    "            remaining_array.extend([[i, to_do, x, 1 if i in remaining_healthy else 0, age] for x in range(ecgShape)])\n",
    "\n",
    "train_array = [[int(item) if str(item).isdigit() else str(item) for item in sublist] for sublist in train_array]\n",
    "test_array = [[int(item) if str(item).isdigit() else str(item) for item in sublist] for sublist in test_array]\n",
    "remaining_array = [[int(item) if str(item).isdigit() else str(item) for item in sublist] for sublist in remaining_array]\n",
    "\n",
    "len(train_array), len(test_array), len(remaining_array)"
   ]
  },
  {
   "cell_type": "code",
   "execution_count": 10,
   "metadata": {},
   "outputs": [],
   "source": [
    "import json\n",
    "with open('test_splits.json', 'w') as f:\n",
    "    json.dump({\n",
    "        'remaining': remaining_array,\n",
    "    }, f)\n"
   ]
  },
  {
   "cell_type": "code",
   "execution_count": 47,
   "metadata": {},
   "outputs": [],
   "source": [
    "import json\n",
    "with open('train_splits.json', 'w') as f:\n",
    "    json.dump({\n",
    "        'train': train_array,\n",
    "        'test': test_array, \n",
    "    }, f)\n"
   ]
  },
  {
   "cell_type": "code",
   "execution_count": null,
   "metadata": {},
   "outputs": [],
   "source": []
  }
 ],
 "metadata": {
  "kernelspec": {
   "display_name": "Python 3",
   "language": "python",
   "name": "python3"
  },
  "language_info": {
   "codemirror_mode": {
    "name": "ipython",
    "version": 3
   },
   "file_extension": ".py",
   "mimetype": "text/x-python",
   "name": "python",
   "nbconvert_exporter": "python",
   "pygments_lexer": "ipython3",
   "version": "3.12.2"
  }
 },
 "nbformat": 4,
 "nbformat_minor": 2
}
